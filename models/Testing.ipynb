{
 "cells": [
  {
   "cell_type": "code",
   "execution_count": 3,
   "id": "9df5de99",
   "metadata": {},
   "outputs": [],
   "source": [
    "import json\n",
    "import pickle\n",
    "import numpy as np\n",
    "import pandas as pd\n",
    "\n",
    "import warnings\n",
    "warnings.filterwarnings(\"ignore\")"
   ]
  },
  {
   "cell_type": "code",
   "execution_count": 4,
   "id": "0f3aeafc",
   "metadata": {},
   "outputs": [],
   "source": [
    "with open (\"Medical_model.pkl\", \"rb\") as f:\n",
    "    model = pickle.load(f)"
   ]
  },
  {
   "cell_type": "code",
   "execution_count": 5,
   "id": "e9ee238c",
   "metadata": {},
   "outputs": [],
   "source": [
    "with open (\"Medical_data.json\", \"r\") as f:\n",
    "    data = json.load(f)"
   ]
  },
  {
   "cell_type": "code",
   "execution_count": 6,
   "id": "9a874b79",
   "metadata": {},
   "outputs": [
    {
     "data": {
      "text/plain": [
       "LinearRegression()"
      ]
     },
     "execution_count": 6,
     "metadata": {},
     "output_type": "execute_result"
    }
   ],
   "source": [
    "model"
   ]
  },
  {
   "cell_type": "code",
   "execution_count": 7,
   "id": "80bd5eb6",
   "metadata": {},
   "outputs": [
    {
     "data": {
      "text/plain": [
       "{'sex_values': {'male': 1, 'female': 0},\n",
       " 'smoker_value': {'no': 0, 'yes': 1},\n",
       " 'columns': ['age',\n",
       "  'sex',\n",
       "  'bmi',\n",
       "  'children',\n",
       "  'smoker',\n",
       "  'region_northeast',\n",
       "  'region_northwest',\n",
       "  'region_southeast',\n",
       "  'region_southwest']}"
      ]
     },
     "execution_count": 7,
     "metadata": {},
     "output_type": "execute_result"
    }
   ],
   "source": [
    "data"
   ]
  },
  {
   "cell_type": "code",
   "execution_count": 8,
   "id": "5b6a5cdb",
   "metadata": {},
   "outputs": [
    {
     "data": {
      "text/plain": [
       "array(['age', 'sex', 'bmi', 'children', 'smoker', 'region_northeast',\n",
       "       'region_northwest', 'region_southeast', 'region_southwest'],\n",
       "      dtype='<U16')"
      ]
     },
     "execution_count": 8,
     "metadata": {},
     "output_type": "execute_result"
    }
   ],
   "source": [
    "columns = np.array(data[\"columns\"])\n",
    "columns"
   ]
  },
  {
   "cell_type": "code",
   "execution_count": 9,
   "id": "a98941ce",
   "metadata": {},
   "outputs": [],
   "source": [
    "sex_values = data[\"sex_values\"]\n",
    "smoker_value = data['smoker_value']"
   ]
  },
  {
   "cell_type": "markdown",
   "id": "96f47826",
   "metadata": {},
   "source": [
    "# Values enter by users"
   ]
  },
  {
   "cell_type": "code",
   "execution_count": 10,
   "id": "a0b33147",
   "metadata": {},
   "outputs": [],
   "source": [
    "age = 50\n",
    "sex = \"male\"\n",
    "bmi = 22\n",
    "children = 2\n",
    "smoker = \"no\"\n",
    "region = \"northwest\"\n",
    "\n",
    "region_col = \"region_\" + region\n",
    "\n",
    "region_index = np.where(columns == region_col)[0][0]"
   ]
  },
  {
   "cell_type": "code",
   "execution_count": 11,
   "id": "4b3699df",
   "metadata": {},
   "outputs": [
    {
     "data": {
      "text/plain": [
       "array([50,  1, 22,  2,  0,  0,  1,  0,  0])"
      ]
     },
     "execution_count": 11,
     "metadata": {},
     "output_type": "execute_result"
    }
   ],
   "source": [
    "array = np.zeros(len(columns), dtype = int)\n",
    "\n",
    "array[0] = age\n",
    "array[1] = sex_values[sex]\n",
    "array[2] = bmi\n",
    "array[3] = children\n",
    "array[4] = smoker_value[smoker]\n",
    "array[region_index] = 1\n",
    "\n",
    "array"
   ]
  },
  {
   "cell_type": "code",
   "execution_count": 12,
   "id": "80c124b5",
   "metadata": {},
   "outputs": [
    {
     "name": "stdout",
     "output_type": "stream",
     "text": [
      "Predicted Price of Medical Insurance is : 8666.801609159973 /- Rs. Only.\n"
     ]
    }
   ],
   "source": [
    "predicted_price = model.predict([array])[0]\n",
    "print(\"Predicted Price of Medical Insurance is :\",predicted_price, \"/- Rs. Only.\")"
   ]
  },
  {
   "cell_type": "code",
   "execution_count": null,
   "id": "f8c0655b",
   "metadata": {},
   "outputs": [],
   "source": []
  }
 ],
 "metadata": {
  "kernelspec": {
   "display_name": "Python 3 (ipykernel)",
   "language": "python",
   "name": "python3"
  },
  "language_info": {
   "codemirror_mode": {
    "name": "ipython",
    "version": 3
   },
   "file_extension": ".py",
   "mimetype": "text/x-python",
   "name": "python",
   "nbconvert_exporter": "python",
   "pygments_lexer": "ipython3",
   "version": "3.9.12"
  }
 },
 "nbformat": 4,
 "nbformat_minor": 5
}
