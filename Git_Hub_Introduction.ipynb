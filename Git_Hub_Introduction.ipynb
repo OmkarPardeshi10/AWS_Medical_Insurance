{
 "cells": [
  {
   "cell_type": "markdown",
   "id": "63656f85",
   "metadata": {},
   "source": [
    "# JIRA"
   ]
  },
  {
   "cell_type": "raw",
   "id": "049cf0b7",
   "metadata": {},
   "source": [
    "JIRA --> Project Management Tool\n",
    "\n",
    "POC --> Proof of concept\n",
    "\n",
    "epic --> 3 month >> Project Plan\n",
    "\n",
    "Sprint --> 2 weeks (15 days) --> (10 working days)\n",
    "\n",
    "Story1 --> Pipeline\n",
    "Story2 --> EDA:  --> 2 days\n",
    "    a. Encoding\n",
    "    b. Missing Value\n",
    "    c. Outliers Handling\n",
    "    d. Scaling\n",
    "    \n",
    "Story3 : Feature Engineering\n",
    "Story4 : Feature Selection\n",
    "----"
   ]
  },
  {
   "cell_type": "markdown",
   "id": "37bd510b",
   "metadata": {},
   "source": [
    "# Git"
   ]
  },
  {
   "cell_type": "raw",
   "id": "f6b48e0c",
   "metadata": {},
   "source": [
    "Github\n",
    "Gitlab\n",
    "BitBucket\n",
    "\n",
    "98 % IT INDUSTRY Use above applications to save codes."
   ]
  },
  {
   "cell_type": "markdown",
   "id": "98d25e40",
   "metadata": {},
   "source": [
    "# Clone repository"
   ]
  },
  {
   "cell_type": "raw",
   "id": "9a5bd9fb",
   "metadata": {},
   "source": [
    "git clone git_link(code >> HTTPS)\n",
    "\n",
    "git clone https://github.com/OmkarPardeshi10/Medical-Insurance.git"
   ]
  },
  {
   "cell_type": "markdown",
   "id": "3cd561f7",
   "metadata": {},
   "source": [
    "# Git status"
   ]
  },
  {
   "cell_type": "raw",
   "id": "55c09bc3",
   "metadata": {},
   "source": [
    "git status"
   ]
  },
  {
   "cell_type": "markdown",
   "id": "c3c346fc",
   "metadata": {},
   "source": [
    "# Add files"
   ]
  },
  {
   "cell_type": "raw",
   "id": "f7eb5950",
   "metadata": {},
   "source": [
    "# Add single file\n",
    "\n",
    "git add file_name\n",
    "\n",
    "e.g. git add main.py \n",
    "\n",
    "# Add all files at same time (NOT RECOMMENDED)\n",
    "\n",
    "git add --all\n",
    "git add ."
   ]
  },
  {
   "cell_type": "markdown",
   "id": "b7fa460e",
   "metadata": {},
   "source": [
    "# Commit your Message"
   ]
  },
  {
   "cell_type": "code",
   "execution_count": null,
   "id": "cc8a4b48",
   "metadata": {},
   "outputs": [],
   "source": [
    "git commit -m \"message\" (message should be in quatation)"
   ]
  },
  {
   "cell_type": "markdown",
   "id": "4ed773d7",
   "metadata": {},
   "source": [
    "# Push"
   ]
  },
  {
   "cell_type": "raw",
   "id": "ac67fc43",
   "metadata": {},
   "source": [
    "git push"
   ]
  }
 ],
 "metadata": {
  "kernelspec": {
   "display_name": "Python 3 (ipykernel)",
   "language": "python",
   "name": "python3"
  },
  "language_info": {
   "codemirror_mode": {
    "name": "ipython",
    "version": 3
   },
   "file_extension": ".py",
   "mimetype": "text/x-python",
   "name": "python",
   "nbconvert_exporter": "python",
   "pygments_lexer": "ipython3",
   "version": "3.9.12"
  }
 },
 "nbformat": 4,
 "nbformat_minor": 5
}
