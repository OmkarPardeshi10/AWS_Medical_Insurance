{
 "cells": [
  {
   "cell_type": "code",
   "execution_count": 1,
   "id": "9df5de99",
   "metadata": {},
   "outputs": [],
   "source": [
    "import json\n",
    "import pickle\n",
    "import numpy as np\n",
    "import pandas as pd\n",
    "\n",
    "import warnings\n",
    "warnings.filterwarnings(\"ignore\")"
   ]
  },
  {
   "cell_type": "code",
   "execution_count": 2,
   "id": "0f3aeafc",
   "metadata": {},
   "outputs": [],
   "source": [
    "with open (\"Medical_model.pkl\", \"rb\") as f:\n",
    "    model = pickle.load(f)"
   ]
  },
  {
   "cell_type": "code",
   "execution_count": 3,
   "id": "e9ee238c",
   "metadata": {},
   "outputs": [],
   "source": [
    "with open (\"Medical_data.json\", \"r\") as f:\n",
    "    data = json.load(f)"
   ]
  },
  {
   "cell_type": "code",
   "execution_count": 4,
   "id": "9a874b79",
   "metadata": {},
   "outputs": [
    {
     "data": {
      "text/plain": [
       "LinearRegression()"
      ]
     },
     "execution_count": 4,
     "metadata": {},
     "output_type": "execute_result"
    }
   ],
   "source": [
    "model"
   ]
  },
  {
   "cell_type": "code",
   "execution_count": 5,
   "id": "80bd5eb6",
   "metadata": {},
   "outputs": [
    {
     "data": {
      "text/plain": [
       "{'sex_values': {'male': 1, 'female': 0},\n",
       " 'smoker_value': {'no': 0, 'yes': 1},\n",
       " 'columns': ['age',\n",
       "  'sex',\n",
       "  'bmi',\n",
       "  'children',\n",
       "  'smoker',\n",
       "  'region_northeast',\n",
       "  'region_northwest',\n",
       "  'region_southeast',\n",
       "  'region_southwest']}"
      ]
     },
     "execution_count": 5,
     "metadata": {},
     "output_type": "execute_result"
    }
   ],
   "source": [
    "data"
   ]
  },
  {
   "cell_type": "code",
   "execution_count": 7,
   "id": "5b6a5cdb",
   "metadata": {},
   "outputs": [
    {
     "data": {
      "text/plain": [
       "array(['age', 'sex', 'bmi', 'children', 'smoker', 'region_northeast',\n",
       "       'region_northwest', 'region_southeast', 'region_southwest'],\n",
       "      dtype='<U16')"
      ]
     },
     "execution_count": 7,
     "metadata": {},
     "output_type": "execute_result"
    }
   ],
   "source": [
    "columns = np.array(data[\"columns\"])\n",
    "columns"
   ]
  },
  {
   "cell_type": "code",
   "execution_count": 8,
   "id": "a98941ce",
   "metadata": {},
   "outputs": [],
   "source": [
    "sex_values = data[\"sex_values\"]\n",
    "smoker_value = data['smoker_value']"
   ]
  },
  {
   "cell_type": "markdown",
   "id": "96f47826",
   "metadata": {},
   "source": [
    "# Values enter by users"
   ]
  },
  {
   "cell_type": "code",
   "execution_count": 13,
   "id": "a0b33147",
   "metadata": {},
   "outputs": [],
   "source": [
    "age = 60\n",
    "sex = \"male\"\n",
    "bmi = 22\n",
    "children = 1\n",
    "smoker = \"no\"\n",
    "region = \"southeast\"\n",
    "\n",
    "region_col = \"region_\" + region\n",
    "\n",
    "region_index = np.where(columns == region_col)[0][0]"
   ]
  },
  {
   "cell_type": "code",
   "execution_count": 14,
   "id": "4b3699df",
   "metadata": {},
   "outputs": [
    {
     "data": {
      "text/plain": [
       "array([60,  1, 22,  1,  0,  0,  0,  1,  0])"
      ]
     },
     "execution_count": 14,
     "metadata": {},
     "output_type": "execute_result"
    }
   ],
   "source": [
    "array = np.zeros(len(columns), dtype = int)\n",
    "\n",
    "array[0] = age\n",
    "array[1] = sex_values[sex]\n",
    "array[2] = bmi\n",
    "array[3] = children\n",
    "array[4] = smoker_value[smoker]\n",
    "array[region_index] = 1\n",
    "\n",
    "array"
   ]
  },
  {
   "cell_type": "code",
   "execution_count": 16,
   "id": "80c124b5",
   "metadata": {},
   "outputs": [
    {
     "name": "stdout",
     "output_type": "stream",
     "text": [
      "Predicted Price of Medical Insurance is : 10014.854852440314 /- Rs. Only.\n"
     ]
    }
   ],
   "source": [
    "predicted_price = model.predict([array])[0]\n",
    "print(\"Predicted Price of Medical Insurance is :\",predicted_price, \"/- Rs. Only.\")"
   ]
  },
  {
   "cell_type": "code",
   "execution_count": null,
   "id": "f8c0655b",
   "metadata": {},
   "outputs": [],
   "source": []
  }
 ],
 "metadata": {
  "kernelspec": {
   "display_name": "Python 3 (ipykernel)",
   "language": "python",
   "name": "python3"
  },
  "language_info": {
   "codemirror_mode": {
    "name": "ipython",
    "version": 3
   },
   "file_extension": ".py",
   "mimetype": "text/x-python",
   "name": "python",
   "nbconvert_exporter": "python",
   "pygments_lexer": "ipython3",
   "version": "3.9.12"
  }
 },
 "nbformat": 4,
 "nbformat_minor": 5
}
